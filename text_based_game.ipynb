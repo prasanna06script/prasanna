{
  "nbformat": 4,
  "nbformat_minor": 0,
  "metadata": {
    "colab": {
      "provenance": [],
      "authorship_tag": "ABX9TyOQrcNNadCUlJ7ZtAVRgdG7",
      "include_colab_link": true
    },
    "kernelspec": {
      "name": "python3",
      "display_name": "Python 3"
    },
    "language_info": {
      "name": "python"
    }
  },
  "cells": [
    {
      "cell_type": "markdown",
      "metadata": {
        "id": "view-in-github",
        "colab_type": "text"
      },
      "source": [
        "<a href=\"https://colab.research.google.com/github/prasanna06script/prasanna/blob/main/text_based_game.ipynb\" target=\"_parent\"><img src=\"https://colab.research.google.com/assets/colab-badge.svg\" alt=\"Open In Colab\"/></a>"
      ]
    },
    {
      "cell_type": "code",
      "execution_count": null,
      "metadata": {
        "colab": {
          "base_uri": "https://localhost:8080/"
        },
        "id": "Zn-y-MYa0P8u",
        "outputId": "d4d22dec-248d-4d99-84e7-c55549399b51"
      },
      "outputs": [
        {
          "output_type": "stream",
          "name": "stdout",
          "text": [
            "Welcome to the Whispering Woods!\n",
            "You find yourself at the edge of an ancient forest, shrouded in an eerie mist.\n",
            "A weathered signpost points towards two paths:\n",
            "1. The Sunlit Path\n",
            "2. The Moonlit Trail\n",
            "Which path will you choose?\n"
          ]
        }
      ],
      "source": [
        "import random\n",
        "\n",
        "def intro():\n",
        "  \"\"\"Displays the game introduction.\"\"\"\n",
        "  print(\"Welcome to the Whispering Woods!\")\n",
        "  print(\"You find yourself at the edge of an ancient forest, shrouded in an eerie mist.\")\n",
        "  print(\"A weathered signpost points towards two paths:\")\n",
        "  print(\"1. The Sunlit Path\")\n",
        "  print(\"2. The Moonlit Trail\")\n",
        "  print(\"Which path will you choose?\")\n",
        "\n",
        "def choose_path():\n",
        "  \"\"\"Allows the player to choose a path.\"\"\"\n",
        "  while True:\n",
        "    try:\n",
        "      choice = int(input(\"Enter 1 for the Sunlit Path or 2 for the Moonlit Trail: \"))\n",
        "      if choice in (1, 2):\n",
        "        return choice\n",
        "      else:\n",
        "        print(\"Invalid choice. Please enter 1 or 2.\")\n",
        "    except ValueError: #Indentation corrected to align with the try statement\n",
        "      print(\"Invalid input. Please enter a number.\")\n",
        "\n",
        "def encounter(path):\n",
        "  \"\"\"Handels the player's encounter based on the chosen path.\"\"\"\n",
        "  if path == 1:\n",
        "    print(\"\\nYou follow the Sunlit Path, bathed in warm sunlight.\")\n",
        "    print(\"You encounter a mischievous sprite playing hide-and-seek amongst the trees.\")\n",
        "    sprite_mood = random.choice([\"friendly\", \"grumpy\"])\n",
        "    if sprite_mood == \"friendly\":\n",
        "      print(\"The sprite, delighted to see you, offers you a magical berry that grants temporary invisibility.\")\n",
        "      print(\"Do you accept the berry?\")\n",
        "      if input(\"Yes/No: \").lower() == \"yes\":\n",
        "        print(\"You accept the berry and gain invisibility!\")\n",
        "      else:\n",
        "        print(\"You decline the berry.\")\n",
        "    else: #Indentation corrected to align with the if statement\n",
        "        print(\"The grumpy sprite plays a mischievous trick on you, temporarily disorienting you.\")\n",
        "        print(\"You spend a few minutes regaining your bearings.\")\n",
        "  elif path == 2:\n",
        "    print(\"\\nYou venture down the Moonlit Trail, the air growing colder.\")\n",
        "    print(\"You encounter a wise old owl perched on a gnarled branch.\")\n",
        "    owl_advice = random.choice([\"seek the hidden spring\", \"avoid the crossroads\", \"trust your instincts\"]) # added the missing equal sign\n",
        "    print(\"The owl hoots and gives you cryptic advice: \", owl_advice)\n",
        "    print(\"Do you heed the owl's advice?\")\n",
        "    if input(\"Yes/No: \").lower() == \"yes\":\n",
        "      print(\"You remember the owl's words.\")\n",
        "    else: #Indentation corrected to align with the if statement\n",
        "      print(\"You dismiss the owl's advice as foolishness.\")\n",
        "\n",
        "def ending():\n",
        "   \"\"\"Displays the game ending based on player choices.\"\"\"\n",
        "   print(\"\\nYou reach the heart of the Whispering Woods.\")\n",
        "   print(\"You find a hidden clearing with a shimmering pool of water.\")\n",
        "   print(\"You have reached your destination.\")\n",
        "\n",
        "def play_game(): # function changed from 'play game' to play_game\n",
        "  \"\"\"Plays the entire game.\"\"\"\n",
        "  intro()\n",
        "  path = choose_path() # added a variable to store the returned value\n",
        "  encounter(path)\n",
        "  ending()\n",
        "\n",
        "if __name__ == \"__main__\":\n",
        "  play_game()"
      ]
    }
  ]
}